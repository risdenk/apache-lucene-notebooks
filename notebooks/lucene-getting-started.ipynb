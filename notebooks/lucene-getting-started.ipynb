{
 "cells": [
  {
   "cell_type": "code",
   "execution_count": 33,
   "metadata": {},
   "outputs": [],
   "source": [
    "%maven org.apache.lucene:lucene-core:8.0.0\n",
    "%maven org.apache.lucene:lucene-queryparser:8.0.0"
   ]
  },
  {
   "cell_type": "code",
   "execution_count": 34,
   "metadata": {},
   "outputs": [],
   "source": [
    "import java.nio.file.Files;\n",
    "import java.nio.file.Path;\n",
    "import java.nio.file.Paths;"
   ]
  },
  {
   "cell_type": "code",
   "execution_count": 35,
   "metadata": {},
   "outputs": [],
   "source": [
    "import org.apache.lucene.analysis.Analyzer;\n",
    "import org.apache.lucene.analysis.standard.StandardAnalyzer;\n",
    "import org.apache.lucene.document.Document;\n",
    "import org.apache.lucene.document.Field;\n",
    "import org.apache.lucene.document.TextField;\n",
    "import org.apache.lucene.index.DirectoryReader;\n",
    "import org.apache.lucene.index.IndexReader;\n",
    "import org.apache.lucene.index.IndexWriter;\n",
    "import org.apache.lucene.index.IndexWriterConfig;\n",
    "import org.apache.lucene.queryparser.classic.QueryParser;\n",
    "import org.apache.lucene.search.IndexSearcher;\n",
    "import org.apache.lucene.search.Query;\n",
    "import org.apache.lucene.search.ScoreDoc;\n",
    "import org.apache.lucene.search.TopDocs;\n",
    "import org.apache.lucene.store.Directory;\n",
    "import org.apache.lucene.store.FSDirectory;\n",
    "import org.apache.lucene.util.IOUtils;"
   ]
  },
  {
   "cell_type": "code",
   "execution_count": 36,
   "metadata": {},
   "outputs": [
    {
     "name": "stdout",
     "output_type": "stream",
     "text": [
      "1\n",
      "This is the text to be indexed.\n"
     ]
    }
   ],
   "source": [
    "Path indexPath = Files.createTempDirectory(\"tempIndex\");\n",
    "try(Directory dir = FSDirectory.open(indexPath)) {\n",
    "  Analyzer analyzer = new StandardAnalyzer();\n",
    "  IndexWriterConfig iwc = new IndexWriterConfig(analyzer);\n",
    "\n",
    "  try(IndexWriter iwriter = new IndexWriter(dir, iwc)) {\n",
    "    Document doc = new Document();\n",
    "    String text = \"This is the text to be indexed.\";\n",
    "    doc.add(new Field(\"fieldname\", text, TextField.TYPE_STORED));\n",
    "    iwriter.addDocument(doc);\n",
    "  }\n",
    "\n",
    "  // Now search the index:\n",
    "  try(DirectoryReader ireader = DirectoryReader.open(dir)) {\n",
    "    IndexSearcher isearcher = new IndexSearcher(ireader);\n",
    "    // Parse a simple query that searches for \"text\":\n",
    "    QueryParser parser = new QueryParser(\"fieldname\", analyzer);\n",
    "    Query query = parser.parse(\"text\");\n",
    "    ScoreDoc[] hits = isearcher.search(query, 10).scoreDocs;\n",
    "    System.out.println(hits.length);\n",
    "    // Iterate through the results:\n",
    "    for (int i = 0; i < hits.length; i++) {\n",
    "      Document hitDoc = isearcher.doc(hits[i].doc);\n",
    "      System.out.println(hitDoc.get(\"fieldname\"));\n",
    "    }\n",
    "  }\n",
    "}\n",
    "IOUtils.rm(indexPath);"
   ]
  },
  {
   "cell_type": "code",
   "execution_count": null,
   "metadata": {},
   "outputs": [],
   "source": []
  }
 ],
 "metadata": {
  "kernelspec": {
   "display_name": "Java",
   "language": "java",
   "name": "java"
  },
  "language_info": {
   "codemirror_mode": "java",
   "file_extension": ".java",
   "mimetype": "text/x-java-source",
   "name": "Java",
   "pygments_lexer": "java",
   "version": "11.0.3+1-Debian-1bpo91"
  }
 },
 "nbformat": 4,
 "nbformat_minor": 2
}
